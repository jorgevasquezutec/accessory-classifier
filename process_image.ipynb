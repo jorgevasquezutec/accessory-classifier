{
 "cells": [
  {
   "cell_type": "code",
   "execution_count": 4,
   "metadata": {},
   "outputs": [],
   "source": [
    "import cv2\n",
    "\n",
    "# Cargar la imagen\n",
    "img = cv2.imread('data/test/image3.jpg')\n",
    "\n",
    "# Convertir la imagen a escala de grises\n",
    "gray = cv2.cvtColor(img, cv2.COLOR_BGR2GRAY)\n",
    "\n",
    "# Aplicar umbralización\n",
    "_, threshold = cv2.threshold(gray, 0, 255, cv2.THRESH_BINARY+cv2.THRESH_OTSU)\n",
    "\n",
    "# Encontrar los contornos de la imagen umbralizada\n",
    "contours, _ = cv2.findContours(threshold, cv2.RETR_TREE, cv2.CHAIN_APPROX_SIMPLE)\n",
    "\n",
    "# Encontrar el contorno central\n",
    "height, width = img.shape[:2]\n",
    "x_center = width // 2\n",
    "y_center = height // 2\n",
    "center_contour = None\n",
    "for contour in contours:\n",
    "    M = cv2.moments(contour)\n",
    "    if M[\"m00\"] != 0:\n",
    "        cx = int(M[\"m10\"] / M[\"m00\"])\n",
    "        cy = int(M[\"m01\"] / M[\"m00\"])\n",
    "        if abs(cx - x_center) < width//4 and abs(cy - y_center) < height//4:\n",
    "            center_contour = contour\n",
    "\n",
    "# Dibujar el contorno central en la imagen original\n",
    "if center_contour is not None:\n",
    "    cv2.drawContours(img, [center_contour], 0, (0,255,0), 2)\n",
    "\n",
    "# Mostrar la imagen resultante\n",
    "cv2.namedWindow('Imagen con objeto principal', cv2.WINDOW_NORMAL)\n",
    "cv2.imshow('Imagen con objeto principal', img)\n",
    "cv2.waitKey(0)\n",
    "cv2.destroyAllWindows()"
   ]
  }
 ],
 "metadata": {
  "kernelspec": {
   "display_name": "Python 3",
   "language": "python",
   "name": "python3"
  },
  "language_info": {
   "codemirror_mode": {
    "name": "ipython",
    "version": 3
   },
   "file_extension": ".py",
   "mimetype": "text/x-python",
   "name": "python",
   "nbconvert_exporter": "python",
   "pygments_lexer": "ipython3",
   "version": "3.10.10"
  },
  "orig_nbformat": 4
 },
 "nbformat": 4,
 "nbformat_minor": 2
}
