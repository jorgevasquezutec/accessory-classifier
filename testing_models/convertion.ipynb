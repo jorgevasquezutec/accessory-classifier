{
 "cells": [
  {
   "cell_type": "code",
   "execution_count": 12,
   "metadata": {},
   "outputs": [],
   "source": [
    "import os\n",
    "import pyheif\n",
    "from PIL import Image\n",
    "from shutil import copyfile\n",
    "\n",
    "input_folder = 'Dataset'\n",
    "output_folder = 'JPEG_Dataset'\n",
    "data_folder = 'data'\n",
    "train_folder = os.path.join(data_folder, 'train')\n"
   ]
  },
  {
   "cell_type": "code",
   "execution_count": 6,
   "metadata": {},
   "outputs": [],
   "source": [
    "def converHEICtoJPEG(image_path , output):\n",
    "    with open(image_path, 'rb') as f:\n",
    "        img = pyheif.read(f)\n",
    "\n",
    "    # Convierte la imagen HEIC a RGB\n",
    "    rgb_image = Image.frombytes(\n",
    "        img.mode, \n",
    "        img.size, \n",
    "        img.data,\n",
    "        \"raw\",\n",
    "        img.mode,\n",
    "        img.stride,\n",
    "    )\n",
    "    # Guarda la imagen RGB en formato JPEG\n",
    "    rgb_image.save(output, format='JPEG')"
   ]
  },
  {
   "cell_type": "code",
   "execution_count": 13,
   "metadata": {},
   "outputs": [],
   "source": [
    "\n",
    "if not os.path.exists(train_folder):\n",
    "    os.makedirs(train_folder)\n",
    "\n",
    "for foldername, subfolders, filenames in os.walk(data_folder):\n",
    "    for filename in filenames:\n",
    "        if filename.endswith('.jpg'):\n",
    "            image_path = os.path.join(foldername, filename)\n",
    "            image_name = os.path.splitext(filename)[0]\n",
    "            image_folder = os.path.join(train_folder, image_name)\n",
    "\n",
    "            if not os.path.exists(image_folder):\n",
    "                os.makedirs(image_folder)\n",
    "            \n",
    "            copyfile(image_path, os.path.join(image_folder, filename))"
   ]
  },
  {
   "cell_type": "code",
   "execution_count": null,
   "metadata": {},
   "outputs": [],
   "source": []
  },
  {
   "cell_type": "code",
   "execution_count": 26,
   "metadata": {},
   "outputs": [],
   "source": [
    "\n",
    "if not os.path.exists(train_folder):\n",
    "    os.makedirs(train_folder)\n",
    "\n",
    "count = 0\n",
    "for foldername, subfolders, filenames in os.walk(input_folder):\n",
    "    for filename in filenames:\n",
    "        extension = os.path.splitext(filename)[1]\n",
    "        # print(extension)\n",
    "        if extension in  ['.jpg','.JPG']:\n",
    "            image_name = os.path.splitext(filename)[0].replace(\" \", \"\")\n",
    "            image_folder = os.path.join(train_folder, image_name)\n",
    "\n",
    "            if not os.path.exists(image_folder):\n",
    "                os.makedirs(image_folder)\n",
    "            \n",
    "            copyfile(os.path.join(foldername, filename), os.path.join(image_folder, filename))"
   ]
  },
  {
   "cell_type": "markdown",
   "metadata": {},
   "source": []
  }
 ],
 "metadata": {
  "kernelspec": {
   "display_name": "Python 3",
   "language": "python",
   "name": "python3"
  },
  "language_info": {
   "codemirror_mode": {
    "name": "ipython",
    "version": 3
   },
   "file_extension": ".py",
   "mimetype": "text/x-python",
   "name": "python",
   "nbconvert_exporter": "python",
   "pygments_lexer": "ipython3",
   "version": "3.10.10"
  },
  "orig_nbformat": 4
 },
 "nbformat": 4,
 "nbformat_minor": 2
}
